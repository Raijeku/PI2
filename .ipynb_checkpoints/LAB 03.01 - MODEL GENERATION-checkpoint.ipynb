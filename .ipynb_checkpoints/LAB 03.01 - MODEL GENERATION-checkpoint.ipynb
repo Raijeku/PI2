{
 "cells": [
  {
   "cell_type": "code",
   "execution_count": 1,
   "metadata": {
    "colab": {
     "base_uri": "https://localhost:8080/",
     "height": 107
    },
    "executionInfo": {
     "elapsed": 11257,
     "status": "ok",
     "timestamp": 1602871691602,
     "user": {
      "displayName": "DAVID ANDRES QUIROGA SALAMANCA",
      "photoUrl": "",
      "userId": "10955084780822350064"
     },
     "user_tz": 300
    },
    "id": "37-WYBwU5Sfk",
    "outputId": "bdc95fd0-5512-4927-d459-846b8c8d117d"
   },
   "outputs": [
    {
     "name": "stdout",
     "output_type": "stream",
     "text": [
      "enabling encryption...\n",
      "encryption enabled\n",
      "replicating local resources\n",
      "endpoint https://m5knaekxo6.execute-api.us-west-2.amazonaws.com/dev-v0001/rlxmooc\n"
     ]
    },
    {
     "data": {
      "application/vnd.google.colaboratory.intrinsic+json": {
       "type": "string"
      },
      "text/plain": [
       "'https://m5knaekxo6.execute-api.us-west-2.amazonaws.com/dev-v0001/rlxmooc'"
      ]
     },
     "execution_count": 1,
     "metadata": {
      "tags": []
     },
     "output_type": "execute_result"
    }
   ],
   "source": [
    "!wget --no-cache -O init.py -q https://raw.githubusercontent.com/rramosp/20201.xai4eng/master/content/init.py\n",
    "import init; init.init(force_download=False); init.get_weblink()\n",
    "init.endpoint"
   ]
  },
  {
   "cell_type": "code",
   "execution_count": null,
   "metadata": {
    "id": "bR6Dlyh-5Sfr"
   },
   "outputs": [],
   "source": [
    "from local.lib.rlxmoocapi import submit, session\n",
    "student = session.Session(init.endpoint).login( course_id=init.course_id, \n",
    "                                                session_id=\"UDEA\", \n",
    "                                                lab_id=\"L03.01\" )\n",
    "init.get_weblink()"
   ]
  },
  {
   "cell_type": "code",
   "execution_count": 2,
   "metadata": {
    "executionInfo": {
     "elapsed": 1272,
     "status": "ok",
     "timestamp": 1602871696442,
     "user": {
      "displayName": "DAVID ANDRES QUIROGA SALAMANCA",
      "photoUrl": "",
      "userId": "10955084780822350064"
     },
     "user_tz": 300
    },
    "id": "CJ0W6SVQ5Sfw"
   },
   "outputs": [],
   "source": [
    "import numpy as np\n",
    "import pandas as pd\n",
    "import matplotlib.pyplot as plt\n",
    "from sklearn.datasets import make_moons\n",
    "from local.lib import mlutils\n",
    "from IPython.display import Image\n",
    "%matplotlib inline"
   ]
  },
  {
   "cell_type": "code",
   "execution_count": 5,
   "metadata": {
    "colab": {
     "base_uri": "https://localhost:8080/",
     "height": 399
    },
    "executionInfo": {
     "elapsed": 421,
     "status": "ok",
     "timestamp": 1602871786296,
     "user": {
      "displayName": "DAVID ANDRES QUIROGA SALAMANCA",
      "photoUrl": "",
      "userId": "10955084780822350064"
     },
     "user_tz": 300
    },
    "id": "nFOe3EbDmd-m",
    "outputId": "9681a9ed-3b45-4b2b-ebc5-227384eab633"
   },
   "outputs": [
    {
     "data": {
      "text/html": [
       "<div>\n",
       "<style scoped>\n",
       "    .dataframe tbody tr th:only-of-type {\n",
       "        vertical-align: middle;\n",
       "    }\n",
       "\n",
       "    .dataframe tbody tr th {\n",
       "        vertical-align: top;\n",
       "    }\n",
       "\n",
       "    .dataframe thead th {\n",
       "        text-align: right;\n",
       "    }\n",
       "</style>\n",
       "<table border=\"1\" class=\"dataframe\">\n",
       "  <thead>\n",
       "    <tr style=\"text-align: right;\">\n",
       "      <th></th>\n",
       "      <th>x_1</th>\n",
       "      <th>x_2</th>\n",
       "      <th>y</th>\n",
       "    </tr>\n",
       "  </thead>\n",
       "  <tbody>\n",
       "    <tr>\n",
       "      <th>0</th>\n",
       "      <td>-1.851357e+14</td>\n",
       "      <td>3.565394e+13</td>\n",
       "      <td>0</td>\n",
       "    </tr>\n",
       "    <tr>\n",
       "      <th>1</th>\n",
       "      <td>5.715585e+14</td>\n",
       "      <td>-8.484241e+13</td>\n",
       "      <td>1</td>\n",
       "    </tr>\n",
       "    <tr>\n",
       "      <th>2</th>\n",
       "      <td>5.175931e+14</td>\n",
       "      <td>-1.231538e+14</td>\n",
       "      <td>1</td>\n",
       "    </tr>\n",
       "    <tr>\n",
       "      <th>3</th>\n",
       "      <td>5.966117e+14</td>\n",
       "      <td>-1.778714e+14</td>\n",
       "      <td>1</td>\n",
       "    </tr>\n",
       "    <tr>\n",
       "      <th>4</th>\n",
       "      <td>4.207345e+14</td>\n",
       "      <td>-1.175593e+14</td>\n",
       "      <td>1</td>\n",
       "    </tr>\n",
       "    <tr>\n",
       "      <th>...</th>\n",
       "      <td>...</td>\n",
       "      <td>...</td>\n",
       "      <td>...</td>\n",
       "    </tr>\n",
       "    <tr>\n",
       "      <th>16379</th>\n",
       "      <td>7.025930e+14</td>\n",
       "      <td>-1.572575e+14</td>\n",
       "      <td>0</td>\n",
       "    </tr>\n",
       "    <tr>\n",
       "      <th>16380</th>\n",
       "      <td>-8.740727e+13</td>\n",
       "      <td>7.636715e+13</td>\n",
       "      <td>0</td>\n",
       "    </tr>\n",
       "    <tr>\n",
       "      <th>16381</th>\n",
       "      <td>4.867707e+14</td>\n",
       "      <td>-1.507269e+14</td>\n",
       "      <td>1</td>\n",
       "    </tr>\n",
       "    <tr>\n",
       "      <th>16382</th>\n",
       "      <td>6.819048e+14</td>\n",
       "      <td>-1.245187e+14</td>\n",
       "      <td>1</td>\n",
       "    </tr>\n",
       "    <tr>\n",
       "      <th>16383</th>\n",
       "      <td>4.306949e+14</td>\n",
       "      <td>-2.181501e+14</td>\n",
       "      <td>1</td>\n",
       "    </tr>\n",
       "  </tbody>\n",
       "</table>\n",
       "<p>16384 rows × 3 columns</p>\n",
       "</div>"
      ],
      "text/plain": [
       "                x_1           x_2  y\n",
       "0     -1.851357e+14  3.565394e+13  0\n",
       "1      5.715585e+14 -8.484241e+13  1\n",
       "2      5.175931e+14 -1.231538e+14  1\n",
       "3      5.966117e+14 -1.778714e+14  1\n",
       "4      4.207345e+14 -1.175593e+14  1\n",
       "...             ...           ... ..\n",
       "16379  7.025930e+14 -1.572575e+14  0\n",
       "16380 -8.740727e+13  7.636715e+13  0\n",
       "16381  4.867707e+14 -1.507269e+14  1\n",
       "16382  6.819048e+14 -1.245187e+14  1\n",
       "16383  4.306949e+14 -2.181501e+14  1\n",
       "\n",
       "[16384 rows x 3 columns]"
      ]
     },
     "execution_count": 5,
     "metadata": {
      "tags": []
     },
     "output_type": "execute_result"
    }
   ],
   "source": [
    "import pandas as pd\n",
    "data = pd.read_csv('../datos.csv')\n",
    "data"
   ]
  },
  {
   "cell_type": "code",
   "execution_count": 6,
   "metadata": {
    "colab": {
     "base_uri": "https://localhost:8080/",
     "height": 159
    },
    "executionInfo": {
     "elapsed": 417,
     "status": "ok",
     "timestamp": 1602871808207,
     "user": {
      "displayName": "DAVID ANDRES QUIROGA SALAMANCA",
      "photoUrl": "",
      "userId": "10955084780822350064"
     },
     "user_tz": 300
    },
    "id": "EM6r8w_pmseL",
    "outputId": "a02da7ae-54c6-4626-c71e-2a5dbb466148"
   },
   "outputs": [
    {
     "name": "stdout",
     "output_type": "stream",
     "text": [
      "[[-1.85135701e+14  3.56539353e+13]\n",
      " [ 5.71558450e+14 -8.48424082e+13]\n",
      " [ 5.17593126e+14 -1.23153770e+14]\n",
      " ...\n",
      " [ 4.86770722e+14 -1.50726911e+14]\n",
      " [ 6.81904757e+14 -1.24518746e+14]\n",
      " [ 4.30694945e+14 -2.18150073e+14]]\n",
      "[0. 1. 1. ... 1. 1. 1.]\n"
     ]
    }
   ],
   "source": [
    "X = data.values[:,:2]\n",
    "print(X)\n",
    "y = data.values[:,2]\n",
    "print(y)\n",
    "X_train = X[:10000]\n",
    "X_test = X[10000:]\n",
    "y_train = y[:10000]\n",
    "y_test = y[10000:]"
   ]
  },
  {
   "cell_type": "markdown",
   "metadata": {
    "id": "1Wbp8QOe5Sf0"
   },
   "source": [
    "# A machine learning task\n",
    "\n",
    "We have two species of bugs (**X bugs** and **Z bugs**), for each bug we have measured its **width** and **length**. Once we have a bug, determining if is of  **species X** or **species Z** is very costly (lab analysis, etc.)\n",
    "\n",
    "**Machine learning goal**: We want to create a model so that, when given the width and length of a bug, will tell us whether it belongs to  **species X** or **species Z**. If the model performs well, we might use it insted of the lab analysis.\n",
    "\n",
    "**To train a machine learning model** we built a **training dataset** where we have **annotated** 20 bugs with their **confirmed** species. The training dataset has:\n",
    "\n",
    "- 20 data items\n",
    "- two data columns (**width** and **length**)\n",
    "- one label column, with two unique values: **0 for species X**, and **1 for species Z**.\n"
   ]
  },
  {
   "cell_type": "code",
   "execution_count": null,
   "metadata": {
    "id": "UqKTgj4w5Sf1",
    "outputId": "5b906f3e-b82a-4f87-f2b0-3f366e2803b8"
   },
   "outputs": [
    {
     "name": "stdout",
     "output_type": "stream",
     "text": [
      "(20, 3) (20, 2) (20,)\n",
      "[[0.5  0.65]\n",
      " [0.75 0.34]\n",
      " [0.37 0.5 ]\n",
      " [0.57 0.74]\n",
      " [1.   0.69]]\n",
      "[0. 1. 1. 0. 1.]\n"
     ]
    },
    {
     "data": {
      "text/html": [
       "<div>\n",
       "<style scoped>\n",
       "    .dataframe tbody tr th:only-of-type {\n",
       "        vertical-align: middle;\n",
       "    }\n",
       "\n",
       "    .dataframe tbody tr th {\n",
       "        vertical-align: top;\n",
       "    }\n",
       "\n",
       "    .dataframe thead th {\n",
       "        text-align: right;\n",
       "    }\n",
       "</style>\n",
       "<table border=\"1\" class=\"dataframe\">\n",
       "  <thead>\n",
       "    <tr style=\"text-align: right;\">\n",
       "      <th></th>\n",
       "      <th>width</th>\n",
       "      <th>height</th>\n",
       "      <th>y</th>\n",
       "    </tr>\n",
       "  </thead>\n",
       "  <tbody>\n",
       "    <tr>\n",
       "      <th>0</th>\n",
       "      <td>0.50</td>\n",
       "      <td>0.65</td>\n",
       "      <td>0.0</td>\n",
       "    </tr>\n",
       "    <tr>\n",
       "      <th>1</th>\n",
       "      <td>0.75</td>\n",
       "      <td>0.34</td>\n",
       "      <td>1.0</td>\n",
       "    </tr>\n",
       "    <tr>\n",
       "      <th>2</th>\n",
       "      <td>0.37</td>\n",
       "      <td>0.50</td>\n",
       "      <td>1.0</td>\n",
       "    </tr>\n",
       "    <tr>\n",
       "      <th>3</th>\n",
       "      <td>0.57</td>\n",
       "      <td>0.74</td>\n",
       "      <td>0.0</td>\n",
       "    </tr>\n",
       "    <tr>\n",
       "      <th>4</th>\n",
       "      <td>1.00</td>\n",
       "      <td>0.69</td>\n",
       "      <td>1.0</td>\n",
       "    </tr>\n",
       "  </tbody>\n",
       "</table>\n",
       "</div>"
      ],
      "text/plain": [
       "   width  height    y\n",
       "0   0.50    0.65  0.0\n",
       "1   0.75    0.34  1.0\n",
       "2   0.37    0.50  1.0\n",
       "3   0.57    0.74  0.0\n",
       "4   1.00    0.69  1.0"
      ]
     },
     "execution_count": 54,
     "metadata": {
      "tags": []
     },
     "output_type": "execute_result"
    }
   ],
   "source": [
    "\n",
    "d = pd.read_csv(\"local/data/trilotropicos_small.csv\")\n",
    "X,y = d.values[:,:2], d.values[:,-1]\n",
    "print (d.shape, X.shape, y.shape)\n",
    "print (X[:5])\n",
    "print (y[:5])\n",
    "d.head()\n"
   ]
  },
  {
   "cell_type": "markdown",
   "metadata": {
    "id": "Z__Q9QCv5Sf8"
   },
   "source": [
    "Since it is just two columns, we can visualize it"
   ]
  },
  {
   "cell_type": "code",
   "execution_count": 7,
   "metadata": {
    "colab": {
     "base_uri": "https://localhost:8080/",
     "height": 290
    },
    "executionInfo": {
     "elapsed": 870,
     "status": "ok",
     "timestamp": 1602871820589,
     "user": {
      "displayName": "DAVID ANDRES QUIROGA SALAMANCA",
      "photoUrl": "",
      "userId": "10955084780822350064"
     },
     "user_tz": 300
    },
    "id": "ZKVBz_6p5Sf9",
    "outputId": "540c4dff-822c-4f62-e28c-8d9963dd02ef"
   },
   "outputs": [
    {
     "data": {
      "image/png": "[encoded data removed]",
      "text/plain": [
       "<Figure size 432x288 with 1 Axes>"
      ]
     },
     "metadata": {
      "needs_background": "light",
      "tags": []
     },
     "output_type": "display_data"
    }
   ],
   "source": [
    "\n",
    "plt.scatter(X[y==0][:,0], X[y==0][:,1], color=\"blue\", label=\"X bug\")\n",
    "plt.scatter(X[y==1][:,0], X[y==1][:,1], color=\"red\", label=\"Z bug\")\n",
    "plt.xlabel(\"width\");plt.ylabel(\"length\"); plt.legend(); plt.grid();\n"
   ]
  },
  {
   "cell_type": "markdown",
   "metadata": {
    "id": "HZdmUkvG5SgD"
   },
   "source": [
    "# Task 1. Manually use a predictive model\n",
    "\n",
    "We give you a procedure somewhat calibrated so that, given a new bug, it produces a prediction. The procedure depends on two parameters $\\theta_0$ and $\\theta_1$. Given the width $w^{(i)}$ and height $h^{(i)}$ of bug number $i$, the prediction $\\hat{y}^{(i)} \\in \\{0, 1\\}$ is computed as follows:\n",
    "\n",
    "$$\\hat{y}^{(i)} = 0\\text{ if }w^{(i)}<\\theta_0\\text{ AND }h^{(i)}>\\theta_1;\\;\\;\\;\\;\\;\\text{otherwise }\\hat{y}^{(i)}=1$$\n"
   ]
  },
  {
   "cell_type": "markdown",
   "metadata": {
    "id": "3Dobco8d5SgE"
   },
   "source": [
    "This can be considered as a **model template**, depending on two parameters.\n",
    "\n",
    "\n",
    "Complete **the following function** so that whenever given a `numpy` array `X` $\\in \\mathbb{R}^m \\times \\mathbb{R}^2$ containing the width and height of $m$ bugs, returns a vector $\\in \\mathbb{R}^m$ with the predictions of the $m$ bugs as described in the expression above. The parameter `t` $\\in \\mathbb{R}^2$ contains, in this order, $\\theta_0$ and $\\theta_1$\n",
    "\n",
    "Observe that your function must return a `numpy` vector of **integers** (not booleans). \n",
    "\n",
    "**CHALLENGE**: solve it with one single line of code\n",
    "\n",
    "**HINT**: use `.astype(int)` to convert a `numpy` array of booleans to integers."
   ]
  },
  {
   "cell_type": "code",
   "execution_count": null,
   "metadata": {
    "id": "UKIPDZju5SgF"
   },
   "outputs": [],
   "source": [
    "def predict(X, t):\n",
    "    return ..."
   ]
  },
  {
   "cell_type": "markdown",
   "metadata": {
    "id": "JJK--jHM5SgK"
   },
   "source": [
    "check manually your code, your predictions with the following `t` must be \n",
    "\n",
    "       [1, 1, 0, 1, 1, 0, 0, 1, 1, 0, 0, 1, 0, 1, 0, 1, 1, 1, 0, 0]\n",
    "       \n",
    "with an accuracy of 0.75"
   ]
  },
  {
   "cell_type": "code",
   "execution_count": null,
   "metadata": {
    "id": "QPYsrIss5SgL"
   },
   "outputs": [],
   "source": [
    "t = np.r_[.5,.3]\n",
    "y_hat = predict(X, t)\n",
    "y_hat"
   ]
  },
  {
   "cell_type": "code",
   "execution_count": null,
   "metadata": {
    "id": "oICZr0XS5SgQ"
   },
   "outputs": [],
   "source": [
    "np.mean(y==y_hat)"
   ]
  },
  {
   "cell_type": "markdown",
   "metadata": {
    "id": "CmLGwIhm5SgU"
   },
   "source": [
    "observe the classification boundary that the model generates"
   ]
  },
  {
   "cell_type": "code",
   "execution_count": null,
   "metadata": {
    "id": "QSn8QTJE5SgV"
   },
   "outputs": [],
   "source": [
    "mlutils.plot_2Ddata_with_boundary(lambda X: predict(X,t), X, y); plt.grid();"
   ]
  },
  {
   "cell_type": "markdown",
   "metadata": {
    "id": "V5b8R_RE5SgY"
   },
   "source": [
    "and with other `t` ... which is better?"
   ]
  },
  {
   "cell_type": "code",
   "execution_count": null,
   "metadata": {
    "id": "_YORZ1v95SgZ"
   },
   "outputs": [],
   "source": [
    "t = np.r_[.5,.8]\n",
    "mlutils.plot_2Ddata_with_boundary(lambda X: predict(X,t), X, y); plt.grid();\n",
    "np.mean(y==predict(X,t))"
   ]
  },
  {
   "cell_type": "markdown",
   "metadata": {
    "id": "qOCpOtNE5Sgd"
   },
   "source": [
    "observe the prediction boundaries of other models. Change the `max_depth` of the decision tree to 2. Does it look familiar?"
   ]
  },
  {
   "cell_type": "code",
   "execution_count": 11,
   "metadata": {
    "colab": {
     "base_uri": "https://localhost:8080/",
     "height": 467
    },
    "executionInfo": {
     "elapsed": 663,
     "status": "ok",
     "timestamp": 1602871965327,
     "user": {
      "displayName": "DAVID ANDRES QUIROGA SALAMANCA",
      "photoUrl": "",
      "userId": "10955084780822350064"
     },
     "user_tz": 300
    },
    "id": "B0F0Yjo_5Sge",
    "outputId": "b64a202b-1728-4c75-d2d8-ecf826ddea58"
   },
   "outputs": [
    {
     "name": "stderr",
     "output_type": "stream",
     "text": [
      "/usr/local/lib/python3.6/dist-packages/sklearn/linear_model/_logistic.py:940: ConvergenceWarning: lbfgs failed to converge (status=2):\n",
      "ABNORMAL_TERMINATION_IN_LNSRCH.\n",
      "\n",
      "Increase the number of iterations (max_iter) or scale the data as shown in:\n",
      "    https://scikit-learn.org/stable/modules/preprocessing.html\n",
      "Please also refer to the documentation for alternative solver options:\n",
      "    https://scikit-learn.org/stable/modules/linear_model.html#logistic-regression\n",
      "  extra_warning_msg=_LOGISTIC_SOLVER_CONVERGENCE_MSG)\n",
      "/content/local/lib/mlutils.py:81: UserWarning: No contour levels were found within the data range.\n",
      "  plt.contour(gd0,gd1,p, levels=levels, colors=line_color, alpha=line_alpha, linestyles=line_style, linewidths=line_width)\n"
     ]
    },
    {
     "data": {
      "image/png": "[encoded data removed]",
      "text/plain": [
       "<Figure size 432x288 with 1 Axes>"
      ]
     },
     "metadata": {
      "needs_background": "light",
      "tags": []
     },
     "output_type": "display_data"
    }
   ],
   "source": [
    "from sklearn.linear_model import LogisticRegression\n",
    "mlutils.plot_2Ddata_with_boundary(LogisticRegression().fit(X[:10],y[:10]).predict, X[:10], y[:10]); plt.grid();"
   ]
  },
  {
   "cell_type": "code",
   "execution_count": 14,
   "metadata": {
    "colab": {
     "base_uri": "https://localhost:8080/",
     "height": 289
    },
    "executionInfo": {
     "elapsed": 727,
     "status": "ok",
     "timestamp": 1602876215797,
     "user": {
      "displayName": "DAVID ANDRES QUIROGA SALAMANCA",
      "photoUrl": "",
      "userId": "10955084780822350064"
     },
     "user_tz": 300
    },
    "id": "BD80Q0KB5Sgj",
    "outputId": "61334dd9-dd34-45c2-b384-10eab50d9c1e"
   },
   "outputs": [
    {
     "data": {
      "image/png": "[encoded data removed]",
      "text/plain": [
       "<Figure size 432x288 with 1 Axes>"
      ]
     },
     "metadata": {
      "needs_background": "light",
      "tags": []
     },
     "output_type": "display_data"
    }
   ],
   "source": [
    "from sklearn.tree import DecisionTreeClassifier\n",
    "mlutils.plot_2Ddata_with_boundary(DecisionTreeClassifier(max_depth=3).fit(X_train,y_train).predict, X_test, y_test); plt.grid();"
   ]
  },
  {
   "cell_type": "code",
   "execution_count": 15,
   "metadata": {
    "colab": {
     "base_uri": "https://localhost:8080/",
     "height": 35
    },
    "executionInfo": {
     "elapsed": 421,
     "status": "ok",
     "timestamp": 1602876223102,
     "user": {
      "displayName": "DAVID ANDRES QUIROGA SALAMANCA",
      "photoUrl": "",
      "userId": "10955084780822350064"
     },
     "user_tz": 300
    },
    "id": "SyLmu2sJ21fg",
    "outputId": "77f7a08f-27ff-4276-e6ca-d295e8dfe007"
   },
   "outputs": [
    {
     "data": {
      "text/plain": [
       "0.9544172932330827"
      ]
     },
     "execution_count": 15,
     "metadata": {
      "tags": []
     },
     "output_type": "execute_result"
    }
   ],
   "source": [
    "dtc = DecisionTreeClassifier(max_depth=3)\n",
    "dtc.fit(X_train,y_train)\n",
    "dtc.score(X_test,y_test)"
   ]
  },
  {
   "cell_type": "code",
   "execution_count": 17,
   "metadata": {
    "colab": {
     "base_uri": "https://localhost:8080/",
     "height": 324
    },
    "executionInfo": {
     "elapsed": 14186,
     "status": "ok",
     "timestamp": 1602876342040,
     "user": {
      "displayName": "DAVID ANDRES QUIROGA SALAMANCA",
      "photoUrl": "",
      "userId": "10955084780822350064"
     },
     "user_tz": 300
    },
    "id": "5yd2DA1V5Sgp",
    "outputId": "0132b10c-17ad-4acb-bdb3-40dc05f43d98"
   },
   "outputs": [
    {
     "name": "stderr",
     "output_type": "stream",
     "text": [
      "/content/local/lib/mlutils.py:81: UserWarning: No contour levels were found within the data range.\n",
      "  plt.contour(gd0,gd1,p, levels=levels, colors=line_color, alpha=line_alpha, linestyles=line_style, linewidths=line_width)\n"
     ]
    },
    {
     "data": {
      "image/png": "[encoded data removed]",
      "text/plain": [
       "<Figure size 432x288 with 1 Axes>"
      ]
     },
     "metadata": {
      "needs_background": "light",
      "tags": []
     },
     "output_type": "display_data"
    }
   ],
   "source": [
    "from sklearn.svm import SVC\n",
    "mlutils.plot_2Ddata_with_boundary(SVC(C=0.2,gamma=10).fit(X_train,y_train).predict, X_test, y_test); plt.grid();"
   ]
  },
  {
   "cell_type": "code",
   "execution_count": 18,
   "metadata": {
    "colab": {
     "base_uri": "https://localhost:8080/",
     "height": 35
    },
    "executionInfo": {
     "elapsed": 6395,
     "status": "ok",
     "timestamp": 1602876387063,
     "user": {
      "displayName": "DAVID ANDRES QUIROGA SALAMANCA",
      "photoUrl": "",
      "userId": "10955084780822350064"
     },
     "user_tz": 300
    },
    "id": "bH53tPEp5Sgv",
    "outputId": "6f9a68ec-18d0-4170-f1bd-bd773ef5d047"
   },
   "outputs": [
    {
     "data": {
      "text/plain": [
       "0.4932644110275689"
      ]
     },
     "execution_count": 18,
     "metadata": {
      "tags": []
     },
     "output_type": "execute_result"
    }
   ],
   "source": [
    "svc = SVC(C=0.2,gamma=10)\n",
    "svc.fit(X_train,y_train)\n",
    "svc.score(X_test,y_test)\n"
   ]
  },
  {
   "cell_type": "markdown",
   "metadata": {
    "id": "aUwEUixH5Sg2"
   },
   "source": [
    "**submit your answer**"
   ]
  },
  {
   "cell_type": "code",
   "execution_count": null,
   "metadata": {
    "id": "o5wBrzuH5Sg2"
   },
   "outputs": [],
   "source": [
    "student.submit_task(globals(), task_id=\"task_01\");"
   ]
  },
  {
   "cell_type": "markdown",
   "metadata": {
    "id": "vBy2ptgw5Sg6"
   },
   "source": [
    "# Task 2. Fit the model\n",
    "\n",
    "Given a set of annotated data $X$, $y$ and the **model template** of the previous exercise, complete the following function that returns $\\theta_0$ and $\\theta_1$ that produce the **best accuracy** on the given `X` and `y`. Consider only $\\theta_0$ and $\\theta_1$ with **one decimal number between 0 and 1**.\n",
    "\n",
    "**Hint**: use a brute force approach, consider all combinations of $\\theta_0$ and $\\theta_1 \\in$ [0.0, 0.1, 0.2, 0.3, 0.4, 0.5, 0.6, 0.7, 0.8, 0.9, 1.0]. Use [`np.linspace`](https://numpy.org/doc/stable/reference/generated/numpy.linspace.html) and [`itertools.product`](https://docs.python.org/3/library/itertools.html#itertools.product)\n",
    "\n",
    "Your function must return an `numpy` array with two elements, the resulting $\\theta_0$ and $\\theta_1$"
   ]
  },
  {
   "cell_type": "code",
   "execution_count": null,
   "metadata": {
    "id": "cZOzGxgF5Sg6"
   },
   "outputs": [],
   "source": [
    "import itertools\n",
    "\n",
    "\n",
    "def fit(X,y):\n",
    "    def predict(X, t):\n",
    "        return ...\n",
    "\n",
    "    return ..."
   ]
  },
  {
   "cell_type": "code",
   "execution_count": null,
   "metadata": {
    "id": "bF8afHdw5ShB"
   },
   "outputs": [],
   "source": [
    "t = fit(X,y)"
   ]
  },
  {
   "cell_type": "markdown",
   "metadata": {
    "id": "WjSQgAM75ShG"
   },
   "source": [
    "the  `t` returned by your function must produce an accuracy of 0.9. There might be several `t` producing the same accuracy, you just have to return any of those. Check visually your solution with the following code."
   ]
  },
  {
   "cell_type": "code",
   "execution_count": null,
   "metadata": {
    "id": "m1YxPOj15ShH"
   },
   "outputs": [],
   "source": [
    "mlutils.plot_2Ddata_with_boundary(lambda X: predict(X,t), X, y); plt.grid();\n",
    "np.mean(y==predict(X,t))"
   ]
  },
  {
   "cell_type": "markdown",
   "metadata": {
    "id": "0r0U-ztc5ShK"
   },
   "source": [
    "you can also use your model on different data. Execute the next cells several times to see the effect on different datasets."
   ]
  },
  {
   "cell_type": "code",
   "execution_count": null,
   "metadata": {
    "id": "dCk79gjE5ShL"
   },
   "outputs": [],
   "source": [
    "from sklearn.datasets import make_blobs\n",
    "from sklearn.preprocessing import MinMaxScaler\n",
    "\n",
    "bX, by = make_blobs(100,n_features=2, centers=2)\n",
    "bX = MinMaxScaler(feature_range=(0.1,.9)).fit_transform(bX)"
   ]
  },
  {
   "cell_type": "code",
   "execution_count": null,
   "metadata": {
    "id": "9MKaFc3u5ShO"
   },
   "outputs": [],
   "source": [
    "bt = fit(bX, by)"
   ]
  },
  {
   "cell_type": "code",
   "execution_count": null,
   "metadata": {
    "id": "9gGTJrBs5ShS"
   },
   "outputs": [],
   "source": [
    "mlutils.plot_2Ddata_with_boundary(lambda X: predict(X,bt), bX, by); plt.grid();\n",
    "np.mean(by==predict(bX,bt))"
   ]
  },
  {
   "cell_type": "markdown",
   "metadata": {
    "id": "189LmG-w5ShW"
   },
   "source": [
    "**submit your answer**"
   ]
  },
  {
   "cell_type": "code",
   "execution_count": null,
   "metadata": {
    "id": "AcZ2oczn5ShW"
   },
   "outputs": [],
   "source": [
    "student.submit_task(globals(), task_id=\"task_02\");"
   ]
  },
  {
   "cell_type": "code",
   "execution_count": null,
   "metadata": {
    "id": "2idAHLKl5Sha"
   },
   "outputs": [],
   "source": []
  },
  {
   "cell_type": "markdown",
   "metadata": {
    "id": "bhNzv3UF5Shf"
   },
   "source": [
    "# Task 3: Make an `sklearn` compatible class with your model\n",
    "\n",
    "organize the previous methods in the following class structure. Bear in mind that:\n",
    "\n",
    "- the `fit` method now does not return `t`, which is now stored in an instance variable `self.t`\n",
    "- the `fit` method must now return `self`.\n",
    "- the `predict` method now does not accept `t` as argument, it must use the one stored in `self.t`"
   ]
  },
  {
   "cell_type": "code",
   "execution_count": null,
   "metadata": {
    "id": "mW2Z72W35Shf"
   },
   "outputs": [],
   "source": [
    "def SimpleModel():\n",
    "    class _SimpleModel:\n",
    "\n",
    "        def __init__(self):\n",
    "            pass\n",
    "\n",
    "        def fit(self, X, y):\n",
    "\n",
    "            ...\n",
    "            return self\n",
    "\n",
    "        def predict(self, X):\n",
    "            return ...\n",
    "        \n",
    "    return _SimpleModel()"
   ]
  },
  {
   "cell_type": "code",
   "execution_count": null,
   "metadata": {
    "id": "uP-2o1bO5Shl"
   },
   "outputs": [],
   "source": [
    "m = SimpleModel()\n",
    "m.fit(X,y)\n",
    "m.predict(X)"
   ]
  },
  {
   "cell_type": "code",
   "execution_count": null,
   "metadata": {
    "id": "CmJet0Gy5Shp"
   },
   "outputs": [],
   "source": [
    "mlutils.plot_2Ddata_with_boundary(m.predict, X, y); plt.grid();\n",
    "np.mean(y==m.predict(X))"
   ]
  },
  {
   "cell_type": "markdown",
   "metadata": {
    "id": "2dR3Nf5w5Shs"
   },
   "source": [
    "check your model with different parametrizations of the `moons` dataset (more and less data points, more and less noise)"
   ]
  },
  {
   "cell_type": "code",
   "execution_count": null,
   "metadata": {
    "id": "utG3zhsr5Sht"
   },
   "outputs": [],
   "source": [
    "from sklearn.datasets import make_moons\n",
    "\n",
    "mX, my = make_moons(100, noise=.1)\n",
    "m = SimpleModel()\n",
    "m.fit(mX,my)\n",
    "\n",
    "mlutils.plot_2Ddata_with_boundary(m.predict, mX, my); plt.grid();\n",
    "np.mean(my==m.predict(mX))"
   ]
  },
  {
   "cell_type": "markdown",
   "metadata": {
    "id": "GzMpaW2D5Shw"
   },
   "source": [
    "**submit your answer**"
   ]
  },
  {
   "cell_type": "code",
   "execution_count": null,
   "metadata": {
    "id": "LzeZ0zAu5Shx"
   },
   "outputs": [],
   "source": [
    "student.submit_task(globals(), task_id=\"task_03\");"
   ]
  },
  {
   "cell_type": "code",
   "execution_count": null,
   "metadata": {
    "id": "HQDSRgW95Sh3"
   },
   "outputs": [],
   "source": []
  }
 ],
 "metadata": {
  "colab": {
   "name": "LAB 03.01 - MODEL GENERATION.ipynb",
   "provenance": []
  },
  "kernelspec": {
   "display_name": "Python 3",
   "language": "python",
   "name": "python3"
  },
  "language_info": {
   "codemirror_mode": {
    "name": "ipython",
    "version": 3
   },
   "file_extension": ".py",
   "mimetype": "text/x-python",
   "name": "python",
   "nbconvert_exporter": "python",
   "pygments_lexer": "ipython3",
   "version": "3.8.3"
  }
 },
 "nbformat": 4,
 "nbformat_minor": 1
}
